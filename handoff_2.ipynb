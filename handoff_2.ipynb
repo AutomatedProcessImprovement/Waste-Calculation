{
 "cells": [
  {
   "cell_type": "markdown",
   "source": [
    "# Handoff Calculation. PurchasingExample\n",
    "\n",
    "NOTE: Interval log is required"
   ],
   "metadata": {
    "collapsed": false
   }
  },
  {
   "cell_type": "markdown",
   "source": [
    "## Pre-processing"
   ],
   "metadata": {
    "collapsed": false,
    "pycharm": {
     "name": "#%% md\n"
    }
   }
  },
  {
   "cell_type": "markdown",
   "source": [
    "### Converting lifecycle events to interval events"
   ],
   "metadata": {
    "collapsed": false,
    "pycharm": {
     "name": "#%% md\n"
    }
   }
  },
  {
   "cell_type": "code",
   "execution_count": 1,
   "outputs": [
    {
     "data": {
      "text/plain": "parsing log, completed traces ::   0%|          | 0/608 [00:00<?, ?it/s]",
      "application/vnd.jupyter.widget-view+json": {
       "version_major": 2,
       "version_minor": 0,
       "model_id": "409670d281fc423caad712e2a9866cea"
      }
     },
     "metadata": {},
     "output_type": "display_data"
    },
    {
     "data": {
      "text/plain": "                                concept:name        org:resource  \\\n0                Create Purchase Requisition           Kim Passa   \n1               Create Request for Quotation           Kim Passa   \n2              Analyze Request for Quotation      Karel de Groot   \n3     Send Request for Quotation to Supplier      Karel de Groot   \n4            Create Quotation comparison Map  Magdalena Predutta   \n...                                      ...                 ...   \n9115            Analyze Purchase Requisition    Heinz Gutschmidt   \n9116            Create Request for Quotation       Francis Odell   \n9117           Analyze Request for Quotation      Karel de Groot   \n9118             Create Purchase Requisition         Tesca Lobes   \n9119            Analyze Purchase Requisition       Francis Odell   \n\n                                    Activity            Resource  \\\n0                Create Purchase Requisition           Kim Passa   \n1               Create Request for Quotation           Kim Passa   \n2              Analyze Request for Quotation      Karel de Groot   \n3     Send Request for Quotation to Supplier      Karel de Groot   \n4            Create Quotation comparison Map  Magdalena Predutta   \n...                                      ...                 ...   \n9115            Analyze Purchase Requisition    Heinz Gutschmidt   \n9116            Create Request for Quotation       Francis Odell   \n9117           Analyze Request for Quotation      Karel de Groot   \n9118             Create Purchase Requisition         Tesca Lobes   \n9119            Analyze Purchase Requisition       Francis Odell   \n\n                   @@startevent_concept:name @@startevent_org:resource  \\\n0                Create Purchase Requisition                 Kim Passa   \n1               Create Request for Quotation                 Kim Passa   \n2              Analyze Request for Quotation            Karel de Groot   \n3     Send Request for Quotation to Supplier            Karel de Groot   \n4            Create Quotation comparison Map        Magdalena Predutta   \n...                                      ...                       ...   \n9115            Analyze Purchase Requisition          Heinz Gutschmidt   \n9116            Create Request for Quotation             Francis Odell   \n9117           Analyze Request for Quotation            Karel de Groot   \n9118             Create Purchase Requisition               Tesca Lobes   \n9119            Analyze Purchase Requisition             Francis Odell   \n\n                       @@startevent_Activity @@startevent_Resource  \\\n0                Create Purchase Requisition             Kim Passa   \n1               Create Request for Quotation             Kim Passa   \n2              Analyze Request for Quotation        Karel de Groot   \n3     Send Request for Quotation to Supplier        Karel de Groot   \n4            Create Quotation comparison Map    Magdalena Predutta   \n...                                      ...                   ...   \n9115            Analyze Purchase Requisition      Heinz Gutschmidt   \n9116            Create Request for Quotation         Francis Odell   \n9117           Analyze Request for Quotation        Karel de Groot   \n9118             Create Purchase Requisition           Tesca Lobes   \n9119            Analyze Purchase Requisition         Francis Odell   \n\n               start_timestamp            time:timestamp  @@duration  \\\n0    2011-01-01 00:00:00-05:00 2011-01-01 00:37:00-05:00      2220.0   \n1    2011-01-01 05:37:00-05:00 2011-01-01 05:45:00-05:00       480.0   \n2    2011-01-01 06:41:00-05:00 2011-01-01 06:55:00-05:00       840.0   \n3    2011-01-01 11:43:00-05:00 2011-01-01 12:09:00-05:00      1560.0   \n4    2011-01-01 12:32:00-05:00 2011-01-01 16:03:00-05:00     12660.0   \n...                        ...                       ...         ...   \n9115 2011-10-12 18:58:00-05:00 2011-10-12 19:02:00-05:00       240.0   \n9116 2011-10-12 19:06:00-05:00 2011-10-12 19:09:00-05:00       180.0   \n9117 2011-10-14 14:05:00-05:00 2011-10-14 14:18:00-05:00       780.0   \n9118 2011-10-13 06:27:00-05:00 2011-10-13 07:21:00-05:00      3240.0   \n9119 2011-10-13 17:03:00-05:00 2011-10-13 17:09:00-05:00       360.0   \n\n     case:concept:name case:variant  case:variant-index    case:creator  \n0                    1    Variant 2                   2  Fluxicon Disco  \n1                    1    Variant 2                   2  Fluxicon Disco  \n2                    1    Variant 2                   2  Fluxicon Disco  \n3                    1    Variant 2                   2  Fluxicon Disco  \n4                    1    Variant 2                   2  Fluxicon Disco  \n...                ...          ...                 ...             ...  \n9115              1941    Variant 4                   4  Fluxicon Disco  \n9116              1941    Variant 4                   4  Fluxicon Disco  \n9117              1941    Variant 4                   4  Fluxicon Disco  \n9118              1949    Variant 3                   3  Fluxicon Disco  \n9119              1949    Variant 3                   3  Fluxicon Disco  \n\n[9120 rows x 15 columns]",
      "text/html": "<div>\n<style scoped>\n    .dataframe tbody tr th:only-of-type {\n        vertical-align: middle;\n    }\n\n    .dataframe tbody tr th {\n        vertical-align: top;\n    }\n\n    .dataframe thead th {\n        text-align: right;\n    }\n</style>\n<table border=\"1\" class=\"dataframe\">\n  <thead>\n    <tr style=\"text-align: right;\">\n      <th></th>\n      <th>concept:name</th>\n      <th>org:resource</th>\n      <th>Activity</th>\n      <th>Resource</th>\n      <th>@@startevent_concept:name</th>\n      <th>@@startevent_org:resource</th>\n      <th>@@startevent_Activity</th>\n      <th>@@startevent_Resource</th>\n      <th>start_timestamp</th>\n      <th>time:timestamp</th>\n      <th>@@duration</th>\n      <th>case:concept:name</th>\n      <th>case:variant</th>\n      <th>case:variant-index</th>\n      <th>case:creator</th>\n    </tr>\n  </thead>\n  <tbody>\n    <tr>\n      <th>0</th>\n      <td>Create Purchase Requisition</td>\n      <td>Kim Passa</td>\n      <td>Create Purchase Requisition</td>\n      <td>Kim Passa</td>\n      <td>Create Purchase Requisition</td>\n      <td>Kim Passa</td>\n      <td>Create Purchase Requisition</td>\n      <td>Kim Passa</td>\n      <td>2011-01-01 00:00:00-05:00</td>\n      <td>2011-01-01 00:37:00-05:00</td>\n      <td>2220.0</td>\n      <td>1</td>\n      <td>Variant 2</td>\n      <td>2</td>\n      <td>Fluxicon Disco</td>\n    </tr>\n    <tr>\n      <th>1</th>\n      <td>Create Request for Quotation</td>\n      <td>Kim Passa</td>\n      <td>Create Request for Quotation</td>\n      <td>Kim Passa</td>\n      <td>Create Request for Quotation</td>\n      <td>Kim Passa</td>\n      <td>Create Request for Quotation</td>\n      <td>Kim Passa</td>\n      <td>2011-01-01 05:37:00-05:00</td>\n      <td>2011-01-01 05:45:00-05:00</td>\n      <td>480.0</td>\n      <td>1</td>\n      <td>Variant 2</td>\n      <td>2</td>\n      <td>Fluxicon Disco</td>\n    </tr>\n    <tr>\n      <th>2</th>\n      <td>Analyze Request for Quotation</td>\n      <td>Karel de Groot</td>\n      <td>Analyze Request for Quotation</td>\n      <td>Karel de Groot</td>\n      <td>Analyze Request for Quotation</td>\n      <td>Karel de Groot</td>\n      <td>Analyze Request for Quotation</td>\n      <td>Karel de Groot</td>\n      <td>2011-01-01 06:41:00-05:00</td>\n      <td>2011-01-01 06:55:00-05:00</td>\n      <td>840.0</td>\n      <td>1</td>\n      <td>Variant 2</td>\n      <td>2</td>\n      <td>Fluxicon Disco</td>\n    </tr>\n    <tr>\n      <th>3</th>\n      <td>Send Request for Quotation to Supplier</td>\n      <td>Karel de Groot</td>\n      <td>Send Request for Quotation to Supplier</td>\n      <td>Karel de Groot</td>\n      <td>Send Request for Quotation to Supplier</td>\n      <td>Karel de Groot</td>\n      <td>Send Request for Quotation to Supplier</td>\n      <td>Karel de Groot</td>\n      <td>2011-01-01 11:43:00-05:00</td>\n      <td>2011-01-01 12:09:00-05:00</td>\n      <td>1560.0</td>\n      <td>1</td>\n      <td>Variant 2</td>\n      <td>2</td>\n      <td>Fluxicon Disco</td>\n    </tr>\n    <tr>\n      <th>4</th>\n      <td>Create Quotation comparison Map</td>\n      <td>Magdalena Predutta</td>\n      <td>Create Quotation comparison Map</td>\n      <td>Magdalena Predutta</td>\n      <td>Create Quotation comparison Map</td>\n      <td>Magdalena Predutta</td>\n      <td>Create Quotation comparison Map</td>\n      <td>Magdalena Predutta</td>\n      <td>2011-01-01 12:32:00-05:00</td>\n      <td>2011-01-01 16:03:00-05:00</td>\n      <td>12660.0</td>\n      <td>1</td>\n      <td>Variant 2</td>\n      <td>2</td>\n      <td>Fluxicon Disco</td>\n    </tr>\n    <tr>\n      <th>...</th>\n      <td>...</td>\n      <td>...</td>\n      <td>...</td>\n      <td>...</td>\n      <td>...</td>\n      <td>...</td>\n      <td>...</td>\n      <td>...</td>\n      <td>...</td>\n      <td>...</td>\n      <td>...</td>\n      <td>...</td>\n      <td>...</td>\n      <td>...</td>\n      <td>...</td>\n    </tr>\n    <tr>\n      <th>9115</th>\n      <td>Analyze Purchase Requisition</td>\n      <td>Heinz Gutschmidt</td>\n      <td>Analyze Purchase Requisition</td>\n      <td>Heinz Gutschmidt</td>\n      <td>Analyze Purchase Requisition</td>\n      <td>Heinz Gutschmidt</td>\n      <td>Analyze Purchase Requisition</td>\n      <td>Heinz Gutschmidt</td>\n      <td>2011-10-12 18:58:00-05:00</td>\n      <td>2011-10-12 19:02:00-05:00</td>\n      <td>240.0</td>\n      <td>1941</td>\n      <td>Variant 4</td>\n      <td>4</td>\n      <td>Fluxicon Disco</td>\n    </tr>\n    <tr>\n      <th>9116</th>\n      <td>Create Request for Quotation</td>\n      <td>Francis Odell</td>\n      <td>Create Request for Quotation</td>\n      <td>Francis Odell</td>\n      <td>Create Request for Quotation</td>\n      <td>Francis Odell</td>\n      <td>Create Request for Quotation</td>\n      <td>Francis Odell</td>\n      <td>2011-10-12 19:06:00-05:00</td>\n      <td>2011-10-12 19:09:00-05:00</td>\n      <td>180.0</td>\n      <td>1941</td>\n      <td>Variant 4</td>\n      <td>4</td>\n      <td>Fluxicon Disco</td>\n    </tr>\n    <tr>\n      <th>9117</th>\n      <td>Analyze Request for Quotation</td>\n      <td>Karel de Groot</td>\n      <td>Analyze Request for Quotation</td>\n      <td>Karel de Groot</td>\n      <td>Analyze Request for Quotation</td>\n      <td>Karel de Groot</td>\n      <td>Analyze Request for Quotation</td>\n      <td>Karel de Groot</td>\n      <td>2011-10-14 14:05:00-05:00</td>\n      <td>2011-10-14 14:18:00-05:00</td>\n      <td>780.0</td>\n      <td>1941</td>\n      <td>Variant 4</td>\n      <td>4</td>\n      <td>Fluxicon Disco</td>\n    </tr>\n    <tr>\n      <th>9118</th>\n      <td>Create Purchase Requisition</td>\n      <td>Tesca Lobes</td>\n      <td>Create Purchase Requisition</td>\n      <td>Tesca Lobes</td>\n      <td>Create Purchase Requisition</td>\n      <td>Tesca Lobes</td>\n      <td>Create Purchase Requisition</td>\n      <td>Tesca Lobes</td>\n      <td>2011-10-13 06:27:00-05:00</td>\n      <td>2011-10-13 07:21:00-05:00</td>\n      <td>3240.0</td>\n      <td>1949</td>\n      <td>Variant 3</td>\n      <td>3</td>\n      <td>Fluxicon Disco</td>\n    </tr>\n    <tr>\n      <th>9119</th>\n      <td>Analyze Purchase Requisition</td>\n      <td>Francis Odell</td>\n      <td>Analyze Purchase Requisition</td>\n      <td>Francis Odell</td>\n      <td>Analyze Purchase Requisition</td>\n      <td>Francis Odell</td>\n      <td>Analyze Purchase Requisition</td>\n      <td>Francis Odell</td>\n      <td>2011-10-13 17:03:00-05:00</td>\n      <td>2011-10-13 17:09:00-05:00</td>\n      <td>360.0</td>\n      <td>1949</td>\n      <td>Variant 3</td>\n      <td>3</td>\n      <td>Fluxicon Disco</td>\n    </tr>\n  </tbody>\n</table>\n<p>9120 rows × 15 columns</p>\n</div>"
     },
     "execution_count": 1,
     "metadata": {},
     "output_type": "execute_result"
    }
   ],
   "source": [
    "from pm4py.objects.log.importer.xes import importer as xes_importer\n",
    "from pm4py.objects.conversion.log import converter as log_converter\n",
    "from pm4py.objects.log.util import interval_lifecycle\n",
    "\n",
    "log = xes_importer.apply('data/PurchasingExampleModified.xes')\n",
    "log_interval = interval_lifecycle.to_interval(log)\n",
    "event_log_interval = log_converter.apply(log_interval, variant=log_converter.Variants.TO_DATA_FRAME)\n",
    "event_log_interval"
   ],
   "metadata": {
    "collapsed": false,
    "pycharm": {
     "name": "#%%\n"
    }
   }
  },
  {
   "cell_type": "markdown",
   "source": [
    "### Case 10\n",
    "\n",
    "Taking one case to work further with it:"
   ],
   "metadata": {
    "collapsed": false
   }
  },
  {
   "cell_type": "code",
   "execution_count": 3,
   "outputs": [
    {
     "data": {
      "text/plain": "                               concept:name         org:resource  \\\n172             Create Purchase Requisition      Esmana Liubiata   \n173            Create Request for Quotation  Immanuel Karagianni   \n174             Create Purchase Requisition      Esmana Liubiata   \n175           Analyze Request for Quotation  Francois de Perrier   \n176  Send Request for Quotation to Supplier       Karel de Groot   \n177         Create Quotation comparison Map       Karel de Groot   \n178        Analyze Quotation Comparison Map        Anna Kaufmann   \n179                      Choose best option        Nico Ojenbeer   \n180         Settle Conditions With Supplier       Karel de Groot   \n181                   Create Purchase Order       Karel de Groot   \n182                  Confirm Purchase Order       Carmen Finacse   \n183                  Deliver Goods Services              Kiu Kan   \n184                  Release Purchase Order          Tesca Lobes   \n185      Approve Purchase Order for payment       Karel de Groot   \n186                            Send Invoice        Karen Clarens   \n187              Release Supplier's Invoice      Karalda Nimwada   \n188            Settle Dispute With Supplier      Karalda Nimwada   \n189    Authorize Supplier's Invoice payment      Karalda Nimwada   \n190                             Pay Invoice        Pedro Alvares   \n\n                                   Activity             Resource  \\\n172             Create Purchase Requisition      Esmana Liubiata   \n173            Create Request for Quotation  Immanuel Karagianni   \n174             Create Purchase Requisition      Esmana Liubiata   \n175           Analyze Request for Quotation  Francois de Perrier   \n176  Send Request for Quotation to Supplier       Karel de Groot   \n177         Create Quotation comparison Map       Karel de Groot   \n178        Analyze Quotation Comparison Map        Anna Kaufmann   \n179                      Choose best option        Nico Ojenbeer   \n180         Settle Conditions With Supplier       Karel de Groot   \n181                   Create Purchase Order       Karel de Groot   \n182                  Confirm Purchase Order       Carmen Finacse   \n183                  Deliver Goods Services              Kiu Kan   \n184                  Release Purchase Order          Tesca Lobes   \n185      Approve Purchase Order for payment       Karel de Groot   \n186                            Send Invoice        Karen Clarens   \n187              Release Supplier's Invoice      Karalda Nimwada   \n188            Settle Dispute With Supplier      Karalda Nimwada   \n189    Authorize Supplier's Invoice payment      Karalda Nimwada   \n190                             Pay Invoice        Pedro Alvares   \n\n                  @@startevent_concept:name @@startevent_org:resource  \\\n172             Create Purchase Requisition           Esmana Liubiata   \n173            Create Request for Quotation       Immanuel Karagianni   \n174             Create Purchase Requisition           Esmana Liubiata   \n175           Analyze Request for Quotation       Francois de Perrier   \n176  Send Request for Quotation to Supplier            Karel de Groot   \n177         Create Quotation comparison Map            Karel de Groot   \n178        Analyze Quotation Comparison Map             Anna Kaufmann   \n179                      Choose best option             Nico Ojenbeer   \n180         Settle Conditions With Supplier            Karel de Groot   \n181                   Create Purchase Order            Karel de Groot   \n182                  Confirm Purchase Order            Carmen Finacse   \n183                  Deliver Goods Services                   Kiu Kan   \n184                  Release Purchase Order               Tesca Lobes   \n185      Approve Purchase Order for payment            Karel de Groot   \n186                            Send Invoice             Karen Clarens   \n187              Release Supplier's Invoice           Karalda Nimwada   \n188            Settle Dispute With Supplier           Karalda Nimwada   \n189    Authorize Supplier's Invoice payment           Karalda Nimwada   \n190                             Pay Invoice             Pedro Alvares   \n\n                      @@startevent_Activity @@startevent_Resource  \\\n172             Create Purchase Requisition       Esmana Liubiata   \n173            Create Request for Quotation   Immanuel Karagianni   \n174             Create Purchase Requisition       Esmana Liubiata   \n175           Analyze Request for Quotation   Francois de Perrier   \n176  Send Request for Quotation to Supplier        Karel de Groot   \n177         Create Quotation comparison Map        Karel de Groot   \n178        Analyze Quotation Comparison Map         Anna Kaufmann   \n179                      Choose best option         Nico Ojenbeer   \n180         Settle Conditions With Supplier        Karel de Groot   \n181                   Create Purchase Order        Karel de Groot   \n182                  Confirm Purchase Order        Carmen Finacse   \n183                  Deliver Goods Services               Kiu Kan   \n184                  Release Purchase Order           Tesca Lobes   \n185      Approve Purchase Order for payment        Karel de Groot   \n186                            Send Invoice         Karen Clarens   \n187              Release Supplier's Invoice       Karalda Nimwada   \n188            Settle Dispute With Supplier       Karalda Nimwada   \n189    Authorize Supplier's Invoice payment       Karalda Nimwada   \n190                             Pay Invoice         Pedro Alvares   \n\n              start_timestamp            time:timestamp  @@duration  \\\n172 2011-01-02 02:52:00-05:00 2011-01-02 03:43:00-05:00      3060.0   \n173 2011-01-02 10:25:00-05:00 2011-01-02 10:32:00-05:00       420.0   \n174 2011-01-02 10:40:00-05:00 2011-01-02 11:40:00-05:00      3600.0   \n175 2011-01-02 15:32:00-05:00 2011-01-02 15:59:00-05:00      1620.0   \n176 2011-01-03 12:50:00-05:00 2011-01-03 13:07:00-05:00      1020.0   \n177 2011-01-03 13:31:00-05:00 2011-01-03 14:28:00-05:00      3420.0   \n178 2011-01-03 21:44:00-05:00 2011-01-03 22:05:00-05:00      1260.0   \n179 2011-01-03 22:05:00-05:00 2011-01-03 22:05:00-05:00         0.0   \n180 2011-01-03 23:53:00-05:00 2011-01-04 04:31:00-05:00     16680.0   \n181 2011-01-04 09:44:00-05:00 2011-01-04 09:52:00-05:00       480.0   \n182 2011-01-05 02:49:00-05:00 2011-01-05 02:58:00-05:00       540.0   \n183 2011-01-05 11:48:00-05:00 2011-01-07 01:19:00-05:00    135060.0   \n184 2011-01-07 08:54:00-05:00 2011-01-07 08:55:00-05:00        60.0   \n185 2011-01-09 02:55:00-05:00 2011-01-09 02:56:00-05:00        60.0   \n186 2011-01-10 00:23:00-05:00 2011-01-10 00:23:00-05:00         0.0   \n187 2011-01-10 14:45:00-05:00 2011-01-10 14:48:00-05:00       180.0   \n188 2011-01-10 15:09:00-05:00 2011-01-10 15:34:00-05:00      1500.0   \n189 2011-01-10 15:43:00-05:00 2011-01-10 15:43:00-05:00         0.0   \n190 2011-01-10 16:03:00-05:00 2011-01-10 16:16:00-05:00       780.0   \n\n    case:concept:name case:variant  case:variant-index    case:creator  \n172                10    Variant 9                   9  Fluxicon Disco  \n173                10    Variant 9                   9  Fluxicon Disco  \n174                10    Variant 9                   9  Fluxicon Disco  \n175                10    Variant 9                   9  Fluxicon Disco  \n176                10    Variant 9                   9  Fluxicon Disco  \n177                10    Variant 9                   9  Fluxicon Disco  \n178                10    Variant 9                   9  Fluxicon Disco  \n179                10    Variant 9                   9  Fluxicon Disco  \n180                10    Variant 9                   9  Fluxicon Disco  \n181                10    Variant 9                   9  Fluxicon Disco  \n182                10    Variant 9                   9  Fluxicon Disco  \n183                10    Variant 9                   9  Fluxicon Disco  \n184                10    Variant 9                   9  Fluxicon Disco  \n185                10    Variant 9                   9  Fluxicon Disco  \n186                10    Variant 9                   9  Fluxicon Disco  \n187                10    Variant 9                   9  Fluxicon Disco  \n188                10    Variant 9                   9  Fluxicon Disco  \n189                10    Variant 9                   9  Fluxicon Disco  \n190                10    Variant 9                   9  Fluxicon Disco  ",
      "text/html": "<div>\n<style scoped>\n    .dataframe tbody tr th:only-of-type {\n        vertical-align: middle;\n    }\n\n    .dataframe tbody tr th {\n        vertical-align: top;\n    }\n\n    .dataframe thead th {\n        text-align: right;\n    }\n</style>\n<table border=\"1\" class=\"dataframe\">\n  <thead>\n    <tr style=\"text-align: right;\">\n      <th></th>\n      <th>concept:name</th>\n      <th>org:resource</th>\n      <th>Activity</th>\n      <th>Resource</th>\n      <th>@@startevent_concept:name</th>\n      <th>@@startevent_org:resource</th>\n      <th>@@startevent_Activity</th>\n      <th>@@startevent_Resource</th>\n      <th>start_timestamp</th>\n      <th>time:timestamp</th>\n      <th>@@duration</th>\n      <th>case:concept:name</th>\n      <th>case:variant</th>\n      <th>case:variant-index</th>\n      <th>case:creator</th>\n    </tr>\n  </thead>\n  <tbody>\n    <tr>\n      <th>172</th>\n      <td>Create Purchase Requisition</td>\n      <td>Esmana Liubiata</td>\n      <td>Create Purchase Requisition</td>\n      <td>Esmana Liubiata</td>\n      <td>Create Purchase Requisition</td>\n      <td>Esmana Liubiata</td>\n      <td>Create Purchase Requisition</td>\n      <td>Esmana Liubiata</td>\n      <td>2011-01-02 02:52:00-05:00</td>\n      <td>2011-01-02 03:43:00-05:00</td>\n      <td>3060.0</td>\n      <td>10</td>\n      <td>Variant 9</td>\n      <td>9</td>\n      <td>Fluxicon Disco</td>\n    </tr>\n    <tr>\n      <th>173</th>\n      <td>Create Request for Quotation</td>\n      <td>Immanuel Karagianni</td>\n      <td>Create Request for Quotation</td>\n      <td>Immanuel Karagianni</td>\n      <td>Create Request for Quotation</td>\n      <td>Immanuel Karagianni</td>\n      <td>Create Request for Quotation</td>\n      <td>Immanuel Karagianni</td>\n      <td>2011-01-02 10:25:00-05:00</td>\n      <td>2011-01-02 10:32:00-05:00</td>\n      <td>420.0</td>\n      <td>10</td>\n      <td>Variant 9</td>\n      <td>9</td>\n      <td>Fluxicon Disco</td>\n    </tr>\n    <tr>\n      <th>174</th>\n      <td>Create Purchase Requisition</td>\n      <td>Esmana Liubiata</td>\n      <td>Create Purchase Requisition</td>\n      <td>Esmana Liubiata</td>\n      <td>Create Purchase Requisition</td>\n      <td>Esmana Liubiata</td>\n      <td>Create Purchase Requisition</td>\n      <td>Esmana Liubiata</td>\n      <td>2011-01-02 10:40:00-05:00</td>\n      <td>2011-01-02 11:40:00-05:00</td>\n      <td>3600.0</td>\n      <td>10</td>\n      <td>Variant 9</td>\n      <td>9</td>\n      <td>Fluxicon Disco</td>\n    </tr>\n    <tr>\n      <th>175</th>\n      <td>Analyze Request for Quotation</td>\n      <td>Francois de Perrier</td>\n      <td>Analyze Request for Quotation</td>\n      <td>Francois de Perrier</td>\n      <td>Analyze Request for Quotation</td>\n      <td>Francois de Perrier</td>\n      <td>Analyze Request for Quotation</td>\n      <td>Francois de Perrier</td>\n      <td>2011-01-02 15:32:00-05:00</td>\n      <td>2011-01-02 15:59:00-05:00</td>\n      <td>1620.0</td>\n      <td>10</td>\n      <td>Variant 9</td>\n      <td>9</td>\n      <td>Fluxicon Disco</td>\n    </tr>\n    <tr>\n      <th>176</th>\n      <td>Send Request for Quotation to Supplier</td>\n      <td>Karel de Groot</td>\n      <td>Send Request for Quotation to Supplier</td>\n      <td>Karel de Groot</td>\n      <td>Send Request for Quotation to Supplier</td>\n      <td>Karel de Groot</td>\n      <td>Send Request for Quotation to Supplier</td>\n      <td>Karel de Groot</td>\n      <td>2011-01-03 12:50:00-05:00</td>\n      <td>2011-01-03 13:07:00-05:00</td>\n      <td>1020.0</td>\n      <td>10</td>\n      <td>Variant 9</td>\n      <td>9</td>\n      <td>Fluxicon Disco</td>\n    </tr>\n    <tr>\n      <th>177</th>\n      <td>Create Quotation comparison Map</td>\n      <td>Karel de Groot</td>\n      <td>Create Quotation comparison Map</td>\n      <td>Karel de Groot</td>\n      <td>Create Quotation comparison Map</td>\n      <td>Karel de Groot</td>\n      <td>Create Quotation comparison Map</td>\n      <td>Karel de Groot</td>\n      <td>2011-01-03 13:31:00-05:00</td>\n      <td>2011-01-03 14:28:00-05:00</td>\n      <td>3420.0</td>\n      <td>10</td>\n      <td>Variant 9</td>\n      <td>9</td>\n      <td>Fluxicon Disco</td>\n    </tr>\n    <tr>\n      <th>178</th>\n      <td>Analyze Quotation Comparison Map</td>\n      <td>Anna Kaufmann</td>\n      <td>Analyze Quotation Comparison Map</td>\n      <td>Anna Kaufmann</td>\n      <td>Analyze Quotation Comparison Map</td>\n      <td>Anna Kaufmann</td>\n      <td>Analyze Quotation Comparison Map</td>\n      <td>Anna Kaufmann</td>\n      <td>2011-01-03 21:44:00-05:00</td>\n      <td>2011-01-03 22:05:00-05:00</td>\n      <td>1260.0</td>\n      <td>10</td>\n      <td>Variant 9</td>\n      <td>9</td>\n      <td>Fluxicon Disco</td>\n    </tr>\n    <tr>\n      <th>179</th>\n      <td>Choose best option</td>\n      <td>Nico Ojenbeer</td>\n      <td>Choose best option</td>\n      <td>Nico Ojenbeer</td>\n      <td>Choose best option</td>\n      <td>Nico Ojenbeer</td>\n      <td>Choose best option</td>\n      <td>Nico Ojenbeer</td>\n      <td>2011-01-03 22:05:00-05:00</td>\n      <td>2011-01-03 22:05:00-05:00</td>\n      <td>0.0</td>\n      <td>10</td>\n      <td>Variant 9</td>\n      <td>9</td>\n      <td>Fluxicon Disco</td>\n    </tr>\n    <tr>\n      <th>180</th>\n      <td>Settle Conditions With Supplier</td>\n      <td>Karel de Groot</td>\n      <td>Settle Conditions With Supplier</td>\n      <td>Karel de Groot</td>\n      <td>Settle Conditions With Supplier</td>\n      <td>Karel de Groot</td>\n      <td>Settle Conditions With Supplier</td>\n      <td>Karel de Groot</td>\n      <td>2011-01-03 23:53:00-05:00</td>\n      <td>2011-01-04 04:31:00-05:00</td>\n      <td>16680.0</td>\n      <td>10</td>\n      <td>Variant 9</td>\n      <td>9</td>\n      <td>Fluxicon Disco</td>\n    </tr>\n    <tr>\n      <th>181</th>\n      <td>Create Purchase Order</td>\n      <td>Karel de Groot</td>\n      <td>Create Purchase Order</td>\n      <td>Karel de Groot</td>\n      <td>Create Purchase Order</td>\n      <td>Karel de Groot</td>\n      <td>Create Purchase Order</td>\n      <td>Karel de Groot</td>\n      <td>2011-01-04 09:44:00-05:00</td>\n      <td>2011-01-04 09:52:00-05:00</td>\n      <td>480.0</td>\n      <td>10</td>\n      <td>Variant 9</td>\n      <td>9</td>\n      <td>Fluxicon Disco</td>\n    </tr>\n    <tr>\n      <th>182</th>\n      <td>Confirm Purchase Order</td>\n      <td>Carmen Finacse</td>\n      <td>Confirm Purchase Order</td>\n      <td>Carmen Finacse</td>\n      <td>Confirm Purchase Order</td>\n      <td>Carmen Finacse</td>\n      <td>Confirm Purchase Order</td>\n      <td>Carmen Finacse</td>\n      <td>2011-01-05 02:49:00-05:00</td>\n      <td>2011-01-05 02:58:00-05:00</td>\n      <td>540.0</td>\n      <td>10</td>\n      <td>Variant 9</td>\n      <td>9</td>\n      <td>Fluxicon Disco</td>\n    </tr>\n    <tr>\n      <th>183</th>\n      <td>Deliver Goods Services</td>\n      <td>Kiu Kan</td>\n      <td>Deliver Goods Services</td>\n      <td>Kiu Kan</td>\n      <td>Deliver Goods Services</td>\n      <td>Kiu Kan</td>\n      <td>Deliver Goods Services</td>\n      <td>Kiu Kan</td>\n      <td>2011-01-05 11:48:00-05:00</td>\n      <td>2011-01-07 01:19:00-05:00</td>\n      <td>135060.0</td>\n      <td>10</td>\n      <td>Variant 9</td>\n      <td>9</td>\n      <td>Fluxicon Disco</td>\n    </tr>\n    <tr>\n      <th>184</th>\n      <td>Release Purchase Order</td>\n      <td>Tesca Lobes</td>\n      <td>Release Purchase Order</td>\n      <td>Tesca Lobes</td>\n      <td>Release Purchase Order</td>\n      <td>Tesca Lobes</td>\n      <td>Release Purchase Order</td>\n      <td>Tesca Lobes</td>\n      <td>2011-01-07 08:54:00-05:00</td>\n      <td>2011-01-07 08:55:00-05:00</td>\n      <td>60.0</td>\n      <td>10</td>\n      <td>Variant 9</td>\n      <td>9</td>\n      <td>Fluxicon Disco</td>\n    </tr>\n    <tr>\n      <th>185</th>\n      <td>Approve Purchase Order for payment</td>\n      <td>Karel de Groot</td>\n      <td>Approve Purchase Order for payment</td>\n      <td>Karel de Groot</td>\n      <td>Approve Purchase Order for payment</td>\n      <td>Karel de Groot</td>\n      <td>Approve Purchase Order for payment</td>\n      <td>Karel de Groot</td>\n      <td>2011-01-09 02:55:00-05:00</td>\n      <td>2011-01-09 02:56:00-05:00</td>\n      <td>60.0</td>\n      <td>10</td>\n      <td>Variant 9</td>\n      <td>9</td>\n      <td>Fluxicon Disco</td>\n    </tr>\n    <tr>\n      <th>186</th>\n      <td>Send Invoice</td>\n      <td>Karen Clarens</td>\n      <td>Send Invoice</td>\n      <td>Karen Clarens</td>\n      <td>Send Invoice</td>\n      <td>Karen Clarens</td>\n      <td>Send Invoice</td>\n      <td>Karen Clarens</td>\n      <td>2011-01-10 00:23:00-05:00</td>\n      <td>2011-01-10 00:23:00-05:00</td>\n      <td>0.0</td>\n      <td>10</td>\n      <td>Variant 9</td>\n      <td>9</td>\n      <td>Fluxicon Disco</td>\n    </tr>\n    <tr>\n      <th>187</th>\n      <td>Release Supplier's Invoice</td>\n      <td>Karalda Nimwada</td>\n      <td>Release Supplier's Invoice</td>\n      <td>Karalda Nimwada</td>\n      <td>Release Supplier's Invoice</td>\n      <td>Karalda Nimwada</td>\n      <td>Release Supplier's Invoice</td>\n      <td>Karalda Nimwada</td>\n      <td>2011-01-10 14:45:00-05:00</td>\n      <td>2011-01-10 14:48:00-05:00</td>\n      <td>180.0</td>\n      <td>10</td>\n      <td>Variant 9</td>\n      <td>9</td>\n      <td>Fluxicon Disco</td>\n    </tr>\n    <tr>\n      <th>188</th>\n      <td>Settle Dispute With Supplier</td>\n      <td>Karalda Nimwada</td>\n      <td>Settle Dispute With Supplier</td>\n      <td>Karalda Nimwada</td>\n      <td>Settle Dispute With Supplier</td>\n      <td>Karalda Nimwada</td>\n      <td>Settle Dispute With Supplier</td>\n      <td>Karalda Nimwada</td>\n      <td>2011-01-10 15:09:00-05:00</td>\n      <td>2011-01-10 15:34:00-05:00</td>\n      <td>1500.0</td>\n      <td>10</td>\n      <td>Variant 9</td>\n      <td>9</td>\n      <td>Fluxicon Disco</td>\n    </tr>\n    <tr>\n      <th>189</th>\n      <td>Authorize Supplier's Invoice payment</td>\n      <td>Karalda Nimwada</td>\n      <td>Authorize Supplier's Invoice payment</td>\n      <td>Karalda Nimwada</td>\n      <td>Authorize Supplier's Invoice payment</td>\n      <td>Karalda Nimwada</td>\n      <td>Authorize Supplier's Invoice payment</td>\n      <td>Karalda Nimwada</td>\n      <td>2011-01-10 15:43:00-05:00</td>\n      <td>2011-01-10 15:43:00-05:00</td>\n      <td>0.0</td>\n      <td>10</td>\n      <td>Variant 9</td>\n      <td>9</td>\n      <td>Fluxicon Disco</td>\n    </tr>\n    <tr>\n      <th>190</th>\n      <td>Pay Invoice</td>\n      <td>Pedro Alvares</td>\n      <td>Pay Invoice</td>\n      <td>Pedro Alvares</td>\n      <td>Pay Invoice</td>\n      <td>Pedro Alvares</td>\n      <td>Pay Invoice</td>\n      <td>Pedro Alvares</td>\n      <td>2011-01-10 16:03:00-05:00</td>\n      <td>2011-01-10 16:16:00-05:00</td>\n      <td>780.0</td>\n      <td>10</td>\n      <td>Variant 9</td>\n      <td>9</td>\n      <td>Fluxicon Disco</td>\n    </tr>\n  </tbody>\n</table>\n</div>"
     },
     "execution_count": 3,
     "metadata": {},
     "output_type": "execute_result"
    }
   ],
   "source": [
    "import pandas as pd\n",
    "\n",
    "# Adjusting time slightly to avoid unnecessary concurrent events\n",
    "# event_log_interval['start_timestamp'] = event_log_interval['start_timestamp'] + pd.Timedelta('1us')\n",
    "\n",
    "event_log_interval_by_case = event_log_interval.groupby(by='case:concept:name')\n",
    "case = event_log_interval_by_case.get_group('10').sort_values(by='start_timestamp')\n",
    "case"
   ],
   "metadata": {
    "collapsed": false,
    "pycharm": {
     "name": "#%%\n"
    }
   }
  },
  {
   "cell_type": "markdown",
   "source": [
    "### Identifying and processing concurrent activities\n",
    "\n",
    "Concurrent activities in Case 10:"
   ],
   "metadata": {
    "collapsed": false
   }
  },
  {
   "cell_type": "code",
   "execution_count": 4,
   "outputs": [
    {
     "data": {
      "text/plain": "{('Analyze Quotation Comparison Map', 'Choose best option'): 1}"
     },
     "execution_count": 4,
     "metadata": {},
     "output_type": "execute_result"
    }
   ],
   "source": [
    "from pm4py.statistics.concurrent_activities.pandas import get as concurrent_activities_get\n",
    "\n",
    "params = {concurrent_activities_get.Parameters.TIMESTAMP_KEY: \"time:timestamp\", concurrent_activities_get.Parameters.START_TIMESTAMP_KEY: \"start_timestamp\"}\n",
    "concurrent_activities = concurrent_activities_get.apply(case, parameters=params)\n",
    "concurrent_activities"
   ],
   "metadata": {
    "collapsed": false,
    "pycharm": {
     "name": "#%%\n"
    }
   }
  },
  {
   "cell_type": "markdown",
   "source": [
    "For concurrent activities we use the concept of **enabled timestamp** to calculate the timestamp of completion of concurrent activities. From a set of concurrent activities, the enabled time stamp is the one that ends the latest.\n",
    "\n",
    "We remove concurrent activities from the case and *add only one with the latest completion timestamp*."
   ],
   "metadata": {
    "collapsed": false
   }
  },
  {
   "cell_type": "code",
   "execution_count": 5,
   "outputs": [
    {
     "name": "stdout",
     "output_type": "stream",
     "text": [
      "Adding \"Analyze Quotation Comparison Map\", dropping \"Choose best option\"\n"
     ]
    },
    {
     "data": {
      "text/plain": "                              concept:name         org:resource  \\\n0              Create Purchase Requisition      Esmana Liubiata   \n1             Create Request for Quotation  Immanuel Karagianni   \n2              Create Purchase Requisition      Esmana Liubiata   \n3            Analyze Request for Quotation  Francois de Perrier   \n4   Send Request for Quotation to Supplier       Karel de Groot   \n5          Create Quotation comparison Map       Karel de Groot   \n6         Analyze Quotation Comparison Map        Anna Kaufmann   \n7          Settle Conditions With Supplier       Karel de Groot   \n8                    Create Purchase Order       Karel de Groot   \n9                   Confirm Purchase Order       Carmen Finacse   \n10                  Deliver Goods Services              Kiu Kan   \n11                  Release Purchase Order          Tesca Lobes   \n12      Approve Purchase Order for payment       Karel de Groot   \n13                            Send Invoice        Karen Clarens   \n14              Release Supplier's Invoice      Karalda Nimwada   \n15            Settle Dispute With Supplier      Karalda Nimwada   \n16    Authorize Supplier's Invoice payment      Karalda Nimwada   \n17                             Pay Invoice        Pedro Alvares   \n\n                                  Activity             Resource  \\\n0              Create Purchase Requisition      Esmana Liubiata   \n1             Create Request for Quotation  Immanuel Karagianni   \n2              Create Purchase Requisition      Esmana Liubiata   \n3            Analyze Request for Quotation  Francois de Perrier   \n4   Send Request for Quotation to Supplier       Karel de Groot   \n5          Create Quotation comparison Map       Karel de Groot   \n6         Analyze Quotation Comparison Map        Anna Kaufmann   \n7          Settle Conditions With Supplier       Karel de Groot   \n8                    Create Purchase Order       Karel de Groot   \n9                   Confirm Purchase Order       Carmen Finacse   \n10                  Deliver Goods Services              Kiu Kan   \n11                  Release Purchase Order          Tesca Lobes   \n12      Approve Purchase Order for payment       Karel de Groot   \n13                            Send Invoice        Karen Clarens   \n14              Release Supplier's Invoice      Karalda Nimwada   \n15            Settle Dispute With Supplier      Karalda Nimwada   \n16    Authorize Supplier's Invoice payment      Karalda Nimwada   \n17                             Pay Invoice        Pedro Alvares   \n\n                 @@startevent_concept:name @@startevent_org:resource  \\\n0              Create Purchase Requisition           Esmana Liubiata   \n1             Create Request for Quotation       Immanuel Karagianni   \n2              Create Purchase Requisition           Esmana Liubiata   \n3            Analyze Request for Quotation       Francois de Perrier   \n4   Send Request for Quotation to Supplier            Karel de Groot   \n5          Create Quotation comparison Map            Karel de Groot   \n6         Analyze Quotation Comparison Map             Anna Kaufmann   \n7          Settle Conditions With Supplier            Karel de Groot   \n8                    Create Purchase Order            Karel de Groot   \n9                   Confirm Purchase Order            Carmen Finacse   \n10                  Deliver Goods Services                   Kiu Kan   \n11                  Release Purchase Order               Tesca Lobes   \n12      Approve Purchase Order for payment            Karel de Groot   \n13                            Send Invoice             Karen Clarens   \n14              Release Supplier's Invoice           Karalda Nimwada   \n15            Settle Dispute With Supplier           Karalda Nimwada   \n16    Authorize Supplier's Invoice payment           Karalda Nimwada   \n17                             Pay Invoice             Pedro Alvares   \n\n                     @@startevent_Activity @@startevent_Resource  \\\n0              Create Purchase Requisition       Esmana Liubiata   \n1             Create Request for Quotation   Immanuel Karagianni   \n2              Create Purchase Requisition       Esmana Liubiata   \n3            Analyze Request for Quotation   Francois de Perrier   \n4   Send Request for Quotation to Supplier        Karel de Groot   \n5          Create Quotation comparison Map        Karel de Groot   \n6         Analyze Quotation Comparison Map         Anna Kaufmann   \n7          Settle Conditions With Supplier        Karel de Groot   \n8                    Create Purchase Order        Karel de Groot   \n9                   Confirm Purchase Order        Carmen Finacse   \n10                  Deliver Goods Services               Kiu Kan   \n11                  Release Purchase Order           Tesca Lobes   \n12      Approve Purchase Order for payment        Karel de Groot   \n13                            Send Invoice         Karen Clarens   \n14              Release Supplier's Invoice       Karalda Nimwada   \n15            Settle Dispute With Supplier       Karalda Nimwada   \n16    Authorize Supplier's Invoice payment       Karalda Nimwada   \n17                             Pay Invoice         Pedro Alvares   \n\n             start_timestamp            time:timestamp  @@duration  \\\n0  2011-01-02 02:52:00-05:00 2011-01-02 03:43:00-05:00      3060.0   \n1  2011-01-02 10:25:00-05:00 2011-01-02 10:32:00-05:00       420.0   \n2  2011-01-02 10:40:00-05:00 2011-01-02 11:40:00-05:00      3600.0   \n3  2011-01-02 15:32:00-05:00 2011-01-02 15:59:00-05:00      1620.0   \n4  2011-01-03 12:50:00-05:00 2011-01-03 13:07:00-05:00      1020.0   \n5  2011-01-03 13:31:00-05:00 2011-01-03 14:28:00-05:00      3420.0   \n6  2011-01-03 21:44:00-05:00 2011-01-03 22:05:00-05:00      1260.0   \n7  2011-01-03 23:53:00-05:00 2011-01-04 04:31:00-05:00     16680.0   \n8  2011-01-04 09:44:00-05:00 2011-01-04 09:52:00-05:00       480.0   \n9  2011-01-05 02:49:00-05:00 2011-01-05 02:58:00-05:00       540.0   \n10 2011-01-05 11:48:00-05:00 2011-01-07 01:19:00-05:00    135060.0   \n11 2011-01-07 08:54:00-05:00 2011-01-07 08:55:00-05:00        60.0   \n12 2011-01-09 02:55:00-05:00 2011-01-09 02:56:00-05:00        60.0   \n13 2011-01-10 00:23:00-05:00 2011-01-10 00:23:00-05:00         0.0   \n14 2011-01-10 14:45:00-05:00 2011-01-10 14:48:00-05:00       180.0   \n15 2011-01-10 15:09:00-05:00 2011-01-10 15:34:00-05:00      1500.0   \n16 2011-01-10 15:43:00-05:00 2011-01-10 15:43:00-05:00         0.0   \n17 2011-01-10 16:03:00-05:00 2011-01-10 16:16:00-05:00       780.0   \n\n   case:concept:name case:variant  case:variant-index    case:creator  \n0                 10    Variant 9                   9  Fluxicon Disco  \n1                 10    Variant 9                   9  Fluxicon Disco  \n2                 10    Variant 9                   9  Fluxicon Disco  \n3                 10    Variant 9                   9  Fluxicon Disco  \n4                 10    Variant 9                   9  Fluxicon Disco  \n5                 10    Variant 9                   9  Fluxicon Disco  \n6                 10    Variant 9                   9  Fluxicon Disco  \n7                 10    Variant 9                   9  Fluxicon Disco  \n8                 10    Variant 9                   9  Fluxicon Disco  \n9                 10    Variant 9                   9  Fluxicon Disco  \n10                10    Variant 9                   9  Fluxicon Disco  \n11                10    Variant 9                   9  Fluxicon Disco  \n12                10    Variant 9                   9  Fluxicon Disco  \n13                10    Variant 9                   9  Fluxicon Disco  \n14                10    Variant 9                   9  Fluxicon Disco  \n15                10    Variant 9                   9  Fluxicon Disco  \n16                10    Variant 9                   9  Fluxicon Disco  \n17                10    Variant 9                   9  Fluxicon Disco  ",
      "text/html": "<div>\n<style scoped>\n    .dataframe tbody tr th:only-of-type {\n        vertical-align: middle;\n    }\n\n    .dataframe tbody tr th {\n        vertical-align: top;\n    }\n\n    .dataframe thead th {\n        text-align: right;\n    }\n</style>\n<table border=\"1\" class=\"dataframe\">\n  <thead>\n    <tr style=\"text-align: right;\">\n      <th></th>\n      <th>concept:name</th>\n      <th>org:resource</th>\n      <th>Activity</th>\n      <th>Resource</th>\n      <th>@@startevent_concept:name</th>\n      <th>@@startevent_org:resource</th>\n      <th>@@startevent_Activity</th>\n      <th>@@startevent_Resource</th>\n      <th>start_timestamp</th>\n      <th>time:timestamp</th>\n      <th>@@duration</th>\n      <th>case:concept:name</th>\n      <th>case:variant</th>\n      <th>case:variant-index</th>\n      <th>case:creator</th>\n    </tr>\n  </thead>\n  <tbody>\n    <tr>\n      <th>0</th>\n      <td>Create Purchase Requisition</td>\n      <td>Esmana Liubiata</td>\n      <td>Create Purchase Requisition</td>\n      <td>Esmana Liubiata</td>\n      <td>Create Purchase Requisition</td>\n      <td>Esmana Liubiata</td>\n      <td>Create Purchase Requisition</td>\n      <td>Esmana Liubiata</td>\n      <td>2011-01-02 02:52:00-05:00</td>\n      <td>2011-01-02 03:43:00-05:00</td>\n      <td>3060.0</td>\n      <td>10</td>\n      <td>Variant 9</td>\n      <td>9</td>\n      <td>Fluxicon Disco</td>\n    </tr>\n    <tr>\n      <th>1</th>\n      <td>Create Request for Quotation</td>\n      <td>Immanuel Karagianni</td>\n      <td>Create Request for Quotation</td>\n      <td>Immanuel Karagianni</td>\n      <td>Create Request for Quotation</td>\n      <td>Immanuel Karagianni</td>\n      <td>Create Request for Quotation</td>\n      <td>Immanuel Karagianni</td>\n      <td>2011-01-02 10:25:00-05:00</td>\n      <td>2011-01-02 10:32:00-05:00</td>\n      <td>420.0</td>\n      <td>10</td>\n      <td>Variant 9</td>\n      <td>9</td>\n      <td>Fluxicon Disco</td>\n    </tr>\n    <tr>\n      <th>2</th>\n      <td>Create Purchase Requisition</td>\n      <td>Esmana Liubiata</td>\n      <td>Create Purchase Requisition</td>\n      <td>Esmana Liubiata</td>\n      <td>Create Purchase Requisition</td>\n      <td>Esmana Liubiata</td>\n      <td>Create Purchase Requisition</td>\n      <td>Esmana Liubiata</td>\n      <td>2011-01-02 10:40:00-05:00</td>\n      <td>2011-01-02 11:40:00-05:00</td>\n      <td>3600.0</td>\n      <td>10</td>\n      <td>Variant 9</td>\n      <td>9</td>\n      <td>Fluxicon Disco</td>\n    </tr>\n    <tr>\n      <th>3</th>\n      <td>Analyze Request for Quotation</td>\n      <td>Francois de Perrier</td>\n      <td>Analyze Request for Quotation</td>\n      <td>Francois de Perrier</td>\n      <td>Analyze Request for Quotation</td>\n      <td>Francois de Perrier</td>\n      <td>Analyze Request for Quotation</td>\n      <td>Francois de Perrier</td>\n      <td>2011-01-02 15:32:00-05:00</td>\n      <td>2011-01-02 15:59:00-05:00</td>\n      <td>1620.0</td>\n      <td>10</td>\n      <td>Variant 9</td>\n      <td>9</td>\n      <td>Fluxicon Disco</td>\n    </tr>\n    <tr>\n      <th>4</th>\n      <td>Send Request for Quotation to Supplier</td>\n      <td>Karel de Groot</td>\n      <td>Send Request for Quotation to Supplier</td>\n      <td>Karel de Groot</td>\n      <td>Send Request for Quotation to Supplier</td>\n      <td>Karel de Groot</td>\n      <td>Send Request for Quotation to Supplier</td>\n      <td>Karel de Groot</td>\n      <td>2011-01-03 12:50:00-05:00</td>\n      <td>2011-01-03 13:07:00-05:00</td>\n      <td>1020.0</td>\n      <td>10</td>\n      <td>Variant 9</td>\n      <td>9</td>\n      <td>Fluxicon Disco</td>\n    </tr>\n    <tr>\n      <th>5</th>\n      <td>Create Quotation comparison Map</td>\n      <td>Karel de Groot</td>\n      <td>Create Quotation comparison Map</td>\n      <td>Karel de Groot</td>\n      <td>Create Quotation comparison Map</td>\n      <td>Karel de Groot</td>\n      <td>Create Quotation comparison Map</td>\n      <td>Karel de Groot</td>\n      <td>2011-01-03 13:31:00-05:00</td>\n      <td>2011-01-03 14:28:00-05:00</td>\n      <td>3420.0</td>\n      <td>10</td>\n      <td>Variant 9</td>\n      <td>9</td>\n      <td>Fluxicon Disco</td>\n    </tr>\n    <tr>\n      <th>6</th>\n      <td>Analyze Quotation Comparison Map</td>\n      <td>Anna Kaufmann</td>\n      <td>Analyze Quotation Comparison Map</td>\n      <td>Anna Kaufmann</td>\n      <td>Analyze Quotation Comparison Map</td>\n      <td>Anna Kaufmann</td>\n      <td>Analyze Quotation Comparison Map</td>\n      <td>Anna Kaufmann</td>\n      <td>2011-01-03 21:44:00-05:00</td>\n      <td>2011-01-03 22:05:00-05:00</td>\n      <td>1260.0</td>\n      <td>10</td>\n      <td>Variant 9</td>\n      <td>9</td>\n      <td>Fluxicon Disco</td>\n    </tr>\n    <tr>\n      <th>7</th>\n      <td>Settle Conditions With Supplier</td>\n      <td>Karel de Groot</td>\n      <td>Settle Conditions With Supplier</td>\n      <td>Karel de Groot</td>\n      <td>Settle Conditions With Supplier</td>\n      <td>Karel de Groot</td>\n      <td>Settle Conditions With Supplier</td>\n      <td>Karel de Groot</td>\n      <td>2011-01-03 23:53:00-05:00</td>\n      <td>2011-01-04 04:31:00-05:00</td>\n      <td>16680.0</td>\n      <td>10</td>\n      <td>Variant 9</td>\n      <td>9</td>\n      <td>Fluxicon Disco</td>\n    </tr>\n    <tr>\n      <th>8</th>\n      <td>Create Purchase Order</td>\n      <td>Karel de Groot</td>\n      <td>Create Purchase Order</td>\n      <td>Karel de Groot</td>\n      <td>Create Purchase Order</td>\n      <td>Karel de Groot</td>\n      <td>Create Purchase Order</td>\n      <td>Karel de Groot</td>\n      <td>2011-01-04 09:44:00-05:00</td>\n      <td>2011-01-04 09:52:00-05:00</td>\n      <td>480.0</td>\n      <td>10</td>\n      <td>Variant 9</td>\n      <td>9</td>\n      <td>Fluxicon Disco</td>\n    </tr>\n    <tr>\n      <th>9</th>\n      <td>Confirm Purchase Order</td>\n      <td>Carmen Finacse</td>\n      <td>Confirm Purchase Order</td>\n      <td>Carmen Finacse</td>\n      <td>Confirm Purchase Order</td>\n      <td>Carmen Finacse</td>\n      <td>Confirm Purchase Order</td>\n      <td>Carmen Finacse</td>\n      <td>2011-01-05 02:49:00-05:00</td>\n      <td>2011-01-05 02:58:00-05:00</td>\n      <td>540.0</td>\n      <td>10</td>\n      <td>Variant 9</td>\n      <td>9</td>\n      <td>Fluxicon Disco</td>\n    </tr>\n    <tr>\n      <th>10</th>\n      <td>Deliver Goods Services</td>\n      <td>Kiu Kan</td>\n      <td>Deliver Goods Services</td>\n      <td>Kiu Kan</td>\n      <td>Deliver Goods Services</td>\n      <td>Kiu Kan</td>\n      <td>Deliver Goods Services</td>\n      <td>Kiu Kan</td>\n      <td>2011-01-05 11:48:00-05:00</td>\n      <td>2011-01-07 01:19:00-05:00</td>\n      <td>135060.0</td>\n      <td>10</td>\n      <td>Variant 9</td>\n      <td>9</td>\n      <td>Fluxicon Disco</td>\n    </tr>\n    <tr>\n      <th>11</th>\n      <td>Release Purchase Order</td>\n      <td>Tesca Lobes</td>\n      <td>Release Purchase Order</td>\n      <td>Tesca Lobes</td>\n      <td>Release Purchase Order</td>\n      <td>Tesca Lobes</td>\n      <td>Release Purchase Order</td>\n      <td>Tesca Lobes</td>\n      <td>2011-01-07 08:54:00-05:00</td>\n      <td>2011-01-07 08:55:00-05:00</td>\n      <td>60.0</td>\n      <td>10</td>\n      <td>Variant 9</td>\n      <td>9</td>\n      <td>Fluxicon Disco</td>\n    </tr>\n    <tr>\n      <th>12</th>\n      <td>Approve Purchase Order for payment</td>\n      <td>Karel de Groot</td>\n      <td>Approve Purchase Order for payment</td>\n      <td>Karel de Groot</td>\n      <td>Approve Purchase Order for payment</td>\n      <td>Karel de Groot</td>\n      <td>Approve Purchase Order for payment</td>\n      <td>Karel de Groot</td>\n      <td>2011-01-09 02:55:00-05:00</td>\n      <td>2011-01-09 02:56:00-05:00</td>\n      <td>60.0</td>\n      <td>10</td>\n      <td>Variant 9</td>\n      <td>9</td>\n      <td>Fluxicon Disco</td>\n    </tr>\n    <tr>\n      <th>13</th>\n      <td>Send Invoice</td>\n      <td>Karen Clarens</td>\n      <td>Send Invoice</td>\n      <td>Karen Clarens</td>\n      <td>Send Invoice</td>\n      <td>Karen Clarens</td>\n      <td>Send Invoice</td>\n      <td>Karen Clarens</td>\n      <td>2011-01-10 00:23:00-05:00</td>\n      <td>2011-01-10 00:23:00-05:00</td>\n      <td>0.0</td>\n      <td>10</td>\n      <td>Variant 9</td>\n      <td>9</td>\n      <td>Fluxicon Disco</td>\n    </tr>\n    <tr>\n      <th>14</th>\n      <td>Release Supplier's Invoice</td>\n      <td>Karalda Nimwada</td>\n      <td>Release Supplier's Invoice</td>\n      <td>Karalda Nimwada</td>\n      <td>Release Supplier's Invoice</td>\n      <td>Karalda Nimwada</td>\n      <td>Release Supplier's Invoice</td>\n      <td>Karalda Nimwada</td>\n      <td>2011-01-10 14:45:00-05:00</td>\n      <td>2011-01-10 14:48:00-05:00</td>\n      <td>180.0</td>\n      <td>10</td>\n      <td>Variant 9</td>\n      <td>9</td>\n      <td>Fluxicon Disco</td>\n    </tr>\n    <tr>\n      <th>15</th>\n      <td>Settle Dispute With Supplier</td>\n      <td>Karalda Nimwada</td>\n      <td>Settle Dispute With Supplier</td>\n      <td>Karalda Nimwada</td>\n      <td>Settle Dispute With Supplier</td>\n      <td>Karalda Nimwada</td>\n      <td>Settle Dispute With Supplier</td>\n      <td>Karalda Nimwada</td>\n      <td>2011-01-10 15:09:00-05:00</td>\n      <td>2011-01-10 15:34:00-05:00</td>\n      <td>1500.0</td>\n      <td>10</td>\n      <td>Variant 9</td>\n      <td>9</td>\n      <td>Fluxicon Disco</td>\n    </tr>\n    <tr>\n      <th>16</th>\n      <td>Authorize Supplier's Invoice payment</td>\n      <td>Karalda Nimwada</td>\n      <td>Authorize Supplier's Invoice payment</td>\n      <td>Karalda Nimwada</td>\n      <td>Authorize Supplier's Invoice payment</td>\n      <td>Karalda Nimwada</td>\n      <td>Authorize Supplier's Invoice payment</td>\n      <td>Karalda Nimwada</td>\n      <td>2011-01-10 15:43:00-05:00</td>\n      <td>2011-01-10 15:43:00-05:00</td>\n      <td>0.0</td>\n      <td>10</td>\n      <td>Variant 9</td>\n      <td>9</td>\n      <td>Fluxicon Disco</td>\n    </tr>\n    <tr>\n      <th>17</th>\n      <td>Pay Invoice</td>\n      <td>Pedro Alvares</td>\n      <td>Pay Invoice</td>\n      <td>Pedro Alvares</td>\n      <td>Pay Invoice</td>\n      <td>Pedro Alvares</td>\n      <td>Pay Invoice</td>\n      <td>Pedro Alvares</td>\n      <td>2011-01-10 16:03:00-05:00</td>\n      <td>2011-01-10 16:16:00-05:00</td>\n      <td>780.0</td>\n      <td>10</td>\n      <td>Variant 9</td>\n      <td>9</td>\n      <td>Fluxicon Disco</td>\n    </tr>\n  </tbody>\n</table>\n</div>"
     },
     "execution_count": 5,
     "metadata": {},
     "output_type": "execute_result"
    }
   ],
   "source": [
    "case_without_concurrent_activities = case.copy()\n",
    "\n",
    "for activities_pair in concurrent_activities:\n",
    "    concurrent = case[(case['Activity'] == activities_pair[0]) | (case['Activity'] == activities_pair[1])]\n",
    "    case_without_concurrent_activities.drop(concurrent.index, inplace=True)\n",
    "    if concurrent.iloc[0]['time:timestamp'] >= concurrent.iloc[1]['time:timestamp']:\n",
    "        print(f\"Adding \\\"{concurrent.iloc[0]['Activity']}\\\", dropping \\\"{concurrent.iloc[1]['Activity']}\\\"\")\n",
    "        case_without_concurrent_activities = case_without_concurrent_activities.append(concurrent.iloc[0])\n",
    "    else:\n",
    "        print(f\"Adding \\\"{concurrent.iloc[1]['Activity']}\\\", dropping \\\"{concurrent.iloc[0]['Activity']}\\\"\")\n",
    "        case_without_concurrent_activities = case_without_concurrent_activities.append(concurrent.iloc[1])\n",
    "\n",
    "case_without_concurrent_activities.sort_values(by='start_timestamp', inplace=True)\n",
    "case_without_concurrent_activities.reset_index(drop=True, inplace=True)\n",
    "case_without_concurrent_activities"
   ],
   "metadata": {
    "collapsed": false,
    "pycharm": {
     "name": "#%%\n"
    }
   }
  },
  {
   "cell_type": "markdown",
   "source": [
    "## Handoff Identification"
   ],
   "metadata": {
    "collapsed": false
   }
  },
  {
   "cell_type": "code",
   "execution_count": 7,
   "outputs": [
    {
     "data": {
      "text/plain": "0      True\n1      True\n2      True\n3      True\n4     False\n5      True\n6      True\n7     False\n8      True\n9      True\n10     True\n11     True\n12     True\n13     True\n14    False\n15    False\n16     True\n17     True\ndtype: bool"
     },
     "execution_count": 7,
     "metadata": {},
     "output_type": "execute_result"
    }
   ],
   "source": [
    "case_processed = case_without_concurrent_activities\n",
    "resource_changed = case_processed['Resource'] != case_processed.shift(-1)['Resource']\n",
    "activity_changed = case_processed['Activity'] != case_processed.shift(-1)['Activity']\n",
    "# both conditions must be satisfied\n",
    "handoff_occurred = resource_changed & activity_changed\n",
    "handoff_occurred"
   ],
   "metadata": {
    "collapsed": false,
    "pycharm": {
     "name": "#%%\n"
    }
   }
  },
  {
   "cell_type": "markdown",
   "source": [
    "The whole case without concurrent activities:"
   ],
   "metadata": {
    "collapsed": false
   }
  },
  {
   "cell_type": "code",
   "execution_count": 8,
   "outputs": [
    {
     "data": {
      "text/plain": "                                  Activity             Resource  \\\n0              Create Purchase Requisition      Esmana Liubiata   \n1             Create Request for Quotation  Immanuel Karagianni   \n2              Create Purchase Requisition      Esmana Liubiata   \n3            Analyze Request for Quotation  Francois de Perrier   \n4   Send Request for Quotation to Supplier       Karel de Groot   \n5          Create Quotation comparison Map       Karel de Groot   \n6         Analyze Quotation Comparison Map        Anna Kaufmann   \n7          Settle Conditions With Supplier       Karel de Groot   \n8                    Create Purchase Order       Karel de Groot   \n9                   Confirm Purchase Order       Carmen Finacse   \n10                  Deliver Goods Services              Kiu Kan   \n11                  Release Purchase Order          Tesca Lobes   \n12      Approve Purchase Order for payment       Karel de Groot   \n13                            Send Invoice        Karen Clarens   \n14              Release Supplier's Invoice      Karalda Nimwada   \n15            Settle Dispute With Supplier      Karalda Nimwada   \n16    Authorize Supplier's Invoice payment      Karalda Nimwada   \n17                             Pay Invoice        Pedro Alvares   \n\n             start_timestamp            time:timestamp  @@duration  \n0  2011-01-02 02:52:00-05:00 2011-01-02 03:43:00-05:00      3060.0  \n1  2011-01-02 10:25:00-05:00 2011-01-02 10:32:00-05:00       420.0  \n2  2011-01-02 10:40:00-05:00 2011-01-02 11:40:00-05:00      3600.0  \n3  2011-01-02 15:32:00-05:00 2011-01-02 15:59:00-05:00      1620.0  \n4  2011-01-03 12:50:00-05:00 2011-01-03 13:07:00-05:00      1020.0  \n5  2011-01-03 13:31:00-05:00 2011-01-03 14:28:00-05:00      3420.0  \n6  2011-01-03 21:44:00-05:00 2011-01-03 22:05:00-05:00      1260.0  \n7  2011-01-03 23:53:00-05:00 2011-01-04 04:31:00-05:00     16680.0  \n8  2011-01-04 09:44:00-05:00 2011-01-04 09:52:00-05:00       480.0  \n9  2011-01-05 02:49:00-05:00 2011-01-05 02:58:00-05:00       540.0  \n10 2011-01-05 11:48:00-05:00 2011-01-07 01:19:00-05:00    135060.0  \n11 2011-01-07 08:54:00-05:00 2011-01-07 08:55:00-05:00        60.0  \n12 2011-01-09 02:55:00-05:00 2011-01-09 02:56:00-05:00        60.0  \n13 2011-01-10 00:23:00-05:00 2011-01-10 00:23:00-05:00         0.0  \n14 2011-01-10 14:45:00-05:00 2011-01-10 14:48:00-05:00       180.0  \n15 2011-01-10 15:09:00-05:00 2011-01-10 15:34:00-05:00      1500.0  \n16 2011-01-10 15:43:00-05:00 2011-01-10 15:43:00-05:00         0.0  \n17 2011-01-10 16:03:00-05:00 2011-01-10 16:16:00-05:00       780.0  ",
      "text/html": "<div>\n<style scoped>\n    .dataframe tbody tr th:only-of-type {\n        vertical-align: middle;\n    }\n\n    .dataframe tbody tr th {\n        vertical-align: top;\n    }\n\n    .dataframe thead th {\n        text-align: right;\n    }\n</style>\n<table border=\"1\" class=\"dataframe\">\n  <thead>\n    <tr style=\"text-align: right;\">\n      <th></th>\n      <th>Activity</th>\n      <th>Resource</th>\n      <th>start_timestamp</th>\n      <th>time:timestamp</th>\n      <th>@@duration</th>\n    </tr>\n  </thead>\n  <tbody>\n    <tr>\n      <th>0</th>\n      <td>Create Purchase Requisition</td>\n      <td>Esmana Liubiata</td>\n      <td>2011-01-02 02:52:00-05:00</td>\n      <td>2011-01-02 03:43:00-05:00</td>\n      <td>3060.0</td>\n    </tr>\n    <tr>\n      <th>1</th>\n      <td>Create Request for Quotation</td>\n      <td>Immanuel Karagianni</td>\n      <td>2011-01-02 10:25:00-05:00</td>\n      <td>2011-01-02 10:32:00-05:00</td>\n      <td>420.0</td>\n    </tr>\n    <tr>\n      <th>2</th>\n      <td>Create Purchase Requisition</td>\n      <td>Esmana Liubiata</td>\n      <td>2011-01-02 10:40:00-05:00</td>\n      <td>2011-01-02 11:40:00-05:00</td>\n      <td>3600.0</td>\n    </tr>\n    <tr>\n      <th>3</th>\n      <td>Analyze Request for Quotation</td>\n      <td>Francois de Perrier</td>\n      <td>2011-01-02 15:32:00-05:00</td>\n      <td>2011-01-02 15:59:00-05:00</td>\n      <td>1620.0</td>\n    </tr>\n    <tr>\n      <th>4</th>\n      <td>Send Request for Quotation to Supplier</td>\n      <td>Karel de Groot</td>\n      <td>2011-01-03 12:50:00-05:00</td>\n      <td>2011-01-03 13:07:00-05:00</td>\n      <td>1020.0</td>\n    </tr>\n    <tr>\n      <th>5</th>\n      <td>Create Quotation comparison Map</td>\n      <td>Karel de Groot</td>\n      <td>2011-01-03 13:31:00-05:00</td>\n      <td>2011-01-03 14:28:00-05:00</td>\n      <td>3420.0</td>\n    </tr>\n    <tr>\n      <th>6</th>\n      <td>Analyze Quotation Comparison Map</td>\n      <td>Anna Kaufmann</td>\n      <td>2011-01-03 21:44:00-05:00</td>\n      <td>2011-01-03 22:05:00-05:00</td>\n      <td>1260.0</td>\n    </tr>\n    <tr>\n      <th>7</th>\n      <td>Settle Conditions With Supplier</td>\n      <td>Karel de Groot</td>\n      <td>2011-01-03 23:53:00-05:00</td>\n      <td>2011-01-04 04:31:00-05:00</td>\n      <td>16680.0</td>\n    </tr>\n    <tr>\n      <th>8</th>\n      <td>Create Purchase Order</td>\n      <td>Karel de Groot</td>\n      <td>2011-01-04 09:44:00-05:00</td>\n      <td>2011-01-04 09:52:00-05:00</td>\n      <td>480.0</td>\n    </tr>\n    <tr>\n      <th>9</th>\n      <td>Confirm Purchase Order</td>\n      <td>Carmen Finacse</td>\n      <td>2011-01-05 02:49:00-05:00</td>\n      <td>2011-01-05 02:58:00-05:00</td>\n      <td>540.0</td>\n    </tr>\n    <tr>\n      <th>10</th>\n      <td>Deliver Goods Services</td>\n      <td>Kiu Kan</td>\n      <td>2011-01-05 11:48:00-05:00</td>\n      <td>2011-01-07 01:19:00-05:00</td>\n      <td>135060.0</td>\n    </tr>\n    <tr>\n      <th>11</th>\n      <td>Release Purchase Order</td>\n      <td>Tesca Lobes</td>\n      <td>2011-01-07 08:54:00-05:00</td>\n      <td>2011-01-07 08:55:00-05:00</td>\n      <td>60.0</td>\n    </tr>\n    <tr>\n      <th>12</th>\n      <td>Approve Purchase Order for payment</td>\n      <td>Karel de Groot</td>\n      <td>2011-01-09 02:55:00-05:00</td>\n      <td>2011-01-09 02:56:00-05:00</td>\n      <td>60.0</td>\n    </tr>\n    <tr>\n      <th>13</th>\n      <td>Send Invoice</td>\n      <td>Karen Clarens</td>\n      <td>2011-01-10 00:23:00-05:00</td>\n      <td>2011-01-10 00:23:00-05:00</td>\n      <td>0.0</td>\n    </tr>\n    <tr>\n      <th>14</th>\n      <td>Release Supplier's Invoice</td>\n      <td>Karalda Nimwada</td>\n      <td>2011-01-10 14:45:00-05:00</td>\n      <td>2011-01-10 14:48:00-05:00</td>\n      <td>180.0</td>\n    </tr>\n    <tr>\n      <th>15</th>\n      <td>Settle Dispute With Supplier</td>\n      <td>Karalda Nimwada</td>\n      <td>2011-01-10 15:09:00-05:00</td>\n      <td>2011-01-10 15:34:00-05:00</td>\n      <td>1500.0</td>\n    </tr>\n    <tr>\n      <th>16</th>\n      <td>Authorize Supplier's Invoice payment</td>\n      <td>Karalda Nimwada</td>\n      <td>2011-01-10 15:43:00-05:00</td>\n      <td>2011-01-10 15:43:00-05:00</td>\n      <td>0.0</td>\n    </tr>\n    <tr>\n      <th>17</th>\n      <td>Pay Invoice</td>\n      <td>Pedro Alvares</td>\n      <td>2011-01-10 16:03:00-05:00</td>\n      <td>2011-01-10 16:16:00-05:00</td>\n      <td>780.0</td>\n    </tr>\n  </tbody>\n</table>\n</div>"
     },
     "execution_count": 8,
     "metadata": {},
     "output_type": "execute_result"
    }
   ],
   "source": [
    "case_processed[['Activity', 'Resource', 'start_timestamp', 'time:timestamp', '@@duration']]"
   ],
   "metadata": {
    "collapsed": false,
    "pycharm": {
     "name": "#%%\n"
    }
   }
  },
  {
   "cell_type": "markdown",
   "source": [
    "Handoff identified between the following activities and resources:"
   ],
   "metadata": {
    "collapsed": false
   }
  },
  {
   "cell_type": "code",
   "execution_count": 9,
   "outputs": [
    {
     "data": {
      "text/plain": "                                Activity             Resource  \\\n0            Create Purchase Requisition      Esmana Liubiata   \n1           Create Request for Quotation  Immanuel Karagianni   \n2            Create Purchase Requisition      Esmana Liubiata   \n3          Analyze Request for Quotation  Francois de Perrier   \n5        Create Quotation comparison Map       Karel de Groot   \n6       Analyze Quotation Comparison Map        Anna Kaufmann   \n8                  Create Purchase Order       Karel de Groot   \n9                 Confirm Purchase Order       Carmen Finacse   \n10                Deliver Goods Services              Kiu Kan   \n11                Release Purchase Order          Tesca Lobes   \n12    Approve Purchase Order for payment       Karel de Groot   \n13                          Send Invoice        Karen Clarens   \n16  Authorize Supplier's Invoice payment      Karalda Nimwada   \n17                           Pay Invoice        Pedro Alvares   \n\n             start_timestamp            time:timestamp  @@duration  \n0  2011-01-02 02:52:00-05:00 2011-01-02 03:43:00-05:00      3060.0  \n1  2011-01-02 10:25:00-05:00 2011-01-02 10:32:00-05:00       420.0  \n2  2011-01-02 10:40:00-05:00 2011-01-02 11:40:00-05:00      3600.0  \n3  2011-01-02 15:32:00-05:00 2011-01-02 15:59:00-05:00      1620.0  \n5  2011-01-03 13:31:00-05:00 2011-01-03 14:28:00-05:00      3420.0  \n6  2011-01-03 21:44:00-05:00 2011-01-03 22:05:00-05:00      1260.0  \n8  2011-01-04 09:44:00-05:00 2011-01-04 09:52:00-05:00       480.0  \n9  2011-01-05 02:49:00-05:00 2011-01-05 02:58:00-05:00       540.0  \n10 2011-01-05 11:48:00-05:00 2011-01-07 01:19:00-05:00    135060.0  \n11 2011-01-07 08:54:00-05:00 2011-01-07 08:55:00-05:00        60.0  \n12 2011-01-09 02:55:00-05:00 2011-01-09 02:56:00-05:00        60.0  \n13 2011-01-10 00:23:00-05:00 2011-01-10 00:23:00-05:00         0.0  \n16 2011-01-10 15:43:00-05:00 2011-01-10 15:43:00-05:00         0.0  \n17 2011-01-10 16:03:00-05:00 2011-01-10 16:16:00-05:00       780.0  ",
      "text/html": "<div>\n<style scoped>\n    .dataframe tbody tr th:only-of-type {\n        vertical-align: middle;\n    }\n\n    .dataframe tbody tr th {\n        vertical-align: top;\n    }\n\n    .dataframe thead th {\n        text-align: right;\n    }\n</style>\n<table border=\"1\" class=\"dataframe\">\n  <thead>\n    <tr style=\"text-align: right;\">\n      <th></th>\n      <th>Activity</th>\n      <th>Resource</th>\n      <th>start_timestamp</th>\n      <th>time:timestamp</th>\n      <th>@@duration</th>\n    </tr>\n  </thead>\n  <tbody>\n    <tr>\n      <th>0</th>\n      <td>Create Purchase Requisition</td>\n      <td>Esmana Liubiata</td>\n      <td>2011-01-02 02:52:00-05:00</td>\n      <td>2011-01-02 03:43:00-05:00</td>\n      <td>3060.0</td>\n    </tr>\n    <tr>\n      <th>1</th>\n      <td>Create Request for Quotation</td>\n      <td>Immanuel Karagianni</td>\n      <td>2011-01-02 10:25:00-05:00</td>\n      <td>2011-01-02 10:32:00-05:00</td>\n      <td>420.0</td>\n    </tr>\n    <tr>\n      <th>2</th>\n      <td>Create Purchase Requisition</td>\n      <td>Esmana Liubiata</td>\n      <td>2011-01-02 10:40:00-05:00</td>\n      <td>2011-01-02 11:40:00-05:00</td>\n      <td>3600.0</td>\n    </tr>\n    <tr>\n      <th>3</th>\n      <td>Analyze Request for Quotation</td>\n      <td>Francois de Perrier</td>\n      <td>2011-01-02 15:32:00-05:00</td>\n      <td>2011-01-02 15:59:00-05:00</td>\n      <td>1620.0</td>\n    </tr>\n    <tr>\n      <th>5</th>\n      <td>Create Quotation comparison Map</td>\n      <td>Karel de Groot</td>\n      <td>2011-01-03 13:31:00-05:00</td>\n      <td>2011-01-03 14:28:00-05:00</td>\n      <td>3420.0</td>\n    </tr>\n    <tr>\n      <th>6</th>\n      <td>Analyze Quotation Comparison Map</td>\n      <td>Anna Kaufmann</td>\n      <td>2011-01-03 21:44:00-05:00</td>\n      <td>2011-01-03 22:05:00-05:00</td>\n      <td>1260.0</td>\n    </tr>\n    <tr>\n      <th>8</th>\n      <td>Create Purchase Order</td>\n      <td>Karel de Groot</td>\n      <td>2011-01-04 09:44:00-05:00</td>\n      <td>2011-01-04 09:52:00-05:00</td>\n      <td>480.0</td>\n    </tr>\n    <tr>\n      <th>9</th>\n      <td>Confirm Purchase Order</td>\n      <td>Carmen Finacse</td>\n      <td>2011-01-05 02:49:00-05:00</td>\n      <td>2011-01-05 02:58:00-05:00</td>\n      <td>540.0</td>\n    </tr>\n    <tr>\n      <th>10</th>\n      <td>Deliver Goods Services</td>\n      <td>Kiu Kan</td>\n      <td>2011-01-05 11:48:00-05:00</td>\n      <td>2011-01-07 01:19:00-05:00</td>\n      <td>135060.0</td>\n    </tr>\n    <tr>\n      <th>11</th>\n      <td>Release Purchase Order</td>\n      <td>Tesca Lobes</td>\n      <td>2011-01-07 08:54:00-05:00</td>\n      <td>2011-01-07 08:55:00-05:00</td>\n      <td>60.0</td>\n    </tr>\n    <tr>\n      <th>12</th>\n      <td>Approve Purchase Order for payment</td>\n      <td>Karel de Groot</td>\n      <td>2011-01-09 02:55:00-05:00</td>\n      <td>2011-01-09 02:56:00-05:00</td>\n      <td>60.0</td>\n    </tr>\n    <tr>\n      <th>13</th>\n      <td>Send Invoice</td>\n      <td>Karen Clarens</td>\n      <td>2011-01-10 00:23:00-05:00</td>\n      <td>2011-01-10 00:23:00-05:00</td>\n      <td>0.0</td>\n    </tr>\n    <tr>\n      <th>16</th>\n      <td>Authorize Supplier's Invoice payment</td>\n      <td>Karalda Nimwada</td>\n      <td>2011-01-10 15:43:00-05:00</td>\n      <td>2011-01-10 15:43:00-05:00</td>\n      <td>0.0</td>\n    </tr>\n    <tr>\n      <th>17</th>\n      <td>Pay Invoice</td>\n      <td>Pedro Alvares</td>\n      <td>2011-01-10 16:03:00-05:00</td>\n      <td>2011-01-10 16:16:00-05:00</td>\n      <td>780.0</td>\n    </tr>\n  </tbody>\n</table>\n</div>"
     },
     "execution_count": 9,
     "metadata": {},
     "output_type": "execute_result"
    }
   ],
   "source": [
    "case_processed[handoff_occurred][['Activity', 'Resource', 'start_timestamp', 'time:timestamp', '@@duration']]"
   ],
   "metadata": {
    "collapsed": false,
    "pycharm": {
     "name": "#%%\n"
    }
   }
  },
  {
   "cell_type": "code",
   "execution_count": 11,
   "outputs": [],
   "source": [
    "handoff = pd.DataFrame(columns=['source_activity', 'source_resource', 'destination_activity', 'destination_resource', 'duration'])\n",
    "\n",
    "handoff.loc[:, 'source_activity'] = case_processed[handoff_occurred]['Activity']\n",
    "handoff.loc[:, 'source_resource'] = case_processed[handoff_occurred]['Resource']\n",
    "handoff.loc[:, 'destination_activity'] = case_processed[handoff_occurred].shift(-1)['Activity']\n",
    "handoff.loc[:, 'destination_resource'] = case_processed[handoff_occurred].shift(-1)['Resource']\n",
    "handoff['duration'] = case_processed[handoff_occurred].shift(-1)['start_timestamp'] - case_processed[handoff_occurred]['time:timestamp']"
   ],
   "metadata": {
    "collapsed": false,
    "pycharm": {
     "name": "#%%\n"
    }
   }
  },
  {
   "cell_type": "code",
   "execution_count": 13,
   "outputs": [],
   "source": [
    "handoff.drop(handoff.tail(1).index, inplace=True)"
   ],
   "metadata": {
    "collapsed": false,
    "pycharm": {
     "name": "#%% Dropping an event at the end which is always 'True'\n"
    }
   }
  },
  {
   "cell_type": "markdown",
   "source": [
    "Handoff with duration:"
   ],
   "metadata": {
    "collapsed": false
   }
  },
  {
   "cell_type": "code",
   "execution_count": 14,
   "outputs": [
    {
     "data": {
      "text/plain": "                         source_activity      source_resource  \\\n0            Create Purchase Requisition      Esmana Liubiata   \n1           Create Request for Quotation  Immanuel Karagianni   \n2            Create Purchase Requisition      Esmana Liubiata   \n3          Analyze Request for Quotation  Francois de Perrier   \n5        Create Quotation comparison Map       Karel de Groot   \n6       Analyze Quotation Comparison Map        Anna Kaufmann   \n8                  Create Purchase Order       Karel de Groot   \n9                 Confirm Purchase Order       Carmen Finacse   \n10                Deliver Goods Services              Kiu Kan   \n11                Release Purchase Order          Tesca Lobes   \n12    Approve Purchase Order for payment       Karel de Groot   \n13                          Send Invoice        Karen Clarens   \n16  Authorize Supplier's Invoice payment      Karalda Nimwada   \n\n                    destination_activity destination_resource        duration  \n0           Create Request for Quotation  Immanuel Karagianni 0 days 06:42:00  \n1            Create Purchase Requisition      Esmana Liubiata 0 days 00:08:00  \n2          Analyze Request for Quotation  Francois de Perrier 0 days 03:52:00  \n3        Create Quotation comparison Map       Karel de Groot 0 days 21:32:00  \n5       Analyze Quotation Comparison Map        Anna Kaufmann 0 days 07:16:00  \n6                  Create Purchase Order       Karel de Groot 0 days 11:39:00  \n8                 Confirm Purchase Order       Carmen Finacse 0 days 16:57:00  \n9                 Deliver Goods Services              Kiu Kan 0 days 08:50:00  \n10                Release Purchase Order          Tesca Lobes 0 days 07:35:00  \n11    Approve Purchase Order for payment       Karel de Groot 1 days 18:00:00  \n12                          Send Invoice        Karen Clarens 0 days 21:27:00  \n13  Authorize Supplier's Invoice payment      Karalda Nimwada 0 days 15:20:00  \n16                           Pay Invoice        Pedro Alvares 0 days 00:20:00  ",
      "text/html": "<div>\n<style scoped>\n    .dataframe tbody tr th:only-of-type {\n        vertical-align: middle;\n    }\n\n    .dataframe tbody tr th {\n        vertical-align: top;\n    }\n\n    .dataframe thead th {\n        text-align: right;\n    }\n</style>\n<table border=\"1\" class=\"dataframe\">\n  <thead>\n    <tr style=\"text-align: right;\">\n      <th></th>\n      <th>source_activity</th>\n      <th>source_resource</th>\n      <th>destination_activity</th>\n      <th>destination_resource</th>\n      <th>duration</th>\n    </tr>\n  </thead>\n  <tbody>\n    <tr>\n      <th>0</th>\n      <td>Create Purchase Requisition</td>\n      <td>Esmana Liubiata</td>\n      <td>Create Request for Quotation</td>\n      <td>Immanuel Karagianni</td>\n      <td>0 days 06:42:00</td>\n    </tr>\n    <tr>\n      <th>1</th>\n      <td>Create Request for Quotation</td>\n      <td>Immanuel Karagianni</td>\n      <td>Create Purchase Requisition</td>\n      <td>Esmana Liubiata</td>\n      <td>0 days 00:08:00</td>\n    </tr>\n    <tr>\n      <th>2</th>\n      <td>Create Purchase Requisition</td>\n      <td>Esmana Liubiata</td>\n      <td>Analyze Request for Quotation</td>\n      <td>Francois de Perrier</td>\n      <td>0 days 03:52:00</td>\n    </tr>\n    <tr>\n      <th>3</th>\n      <td>Analyze Request for Quotation</td>\n      <td>Francois de Perrier</td>\n      <td>Create Quotation comparison Map</td>\n      <td>Karel de Groot</td>\n      <td>0 days 21:32:00</td>\n    </tr>\n    <tr>\n      <th>5</th>\n      <td>Create Quotation comparison Map</td>\n      <td>Karel de Groot</td>\n      <td>Analyze Quotation Comparison Map</td>\n      <td>Anna Kaufmann</td>\n      <td>0 days 07:16:00</td>\n    </tr>\n    <tr>\n      <th>6</th>\n      <td>Analyze Quotation Comparison Map</td>\n      <td>Anna Kaufmann</td>\n      <td>Create Purchase Order</td>\n      <td>Karel de Groot</td>\n      <td>0 days 11:39:00</td>\n    </tr>\n    <tr>\n      <th>8</th>\n      <td>Create Purchase Order</td>\n      <td>Karel de Groot</td>\n      <td>Confirm Purchase Order</td>\n      <td>Carmen Finacse</td>\n      <td>0 days 16:57:00</td>\n    </tr>\n    <tr>\n      <th>9</th>\n      <td>Confirm Purchase Order</td>\n      <td>Carmen Finacse</td>\n      <td>Deliver Goods Services</td>\n      <td>Kiu Kan</td>\n      <td>0 days 08:50:00</td>\n    </tr>\n    <tr>\n      <th>10</th>\n      <td>Deliver Goods Services</td>\n      <td>Kiu Kan</td>\n      <td>Release Purchase Order</td>\n      <td>Tesca Lobes</td>\n      <td>0 days 07:35:00</td>\n    </tr>\n    <tr>\n      <th>11</th>\n      <td>Release Purchase Order</td>\n      <td>Tesca Lobes</td>\n      <td>Approve Purchase Order for payment</td>\n      <td>Karel de Groot</td>\n      <td>1 days 18:00:00</td>\n    </tr>\n    <tr>\n      <th>12</th>\n      <td>Approve Purchase Order for payment</td>\n      <td>Karel de Groot</td>\n      <td>Send Invoice</td>\n      <td>Karen Clarens</td>\n      <td>0 days 21:27:00</td>\n    </tr>\n    <tr>\n      <th>13</th>\n      <td>Send Invoice</td>\n      <td>Karen Clarens</td>\n      <td>Authorize Supplier's Invoice payment</td>\n      <td>Karalda Nimwada</td>\n      <td>0 days 15:20:00</td>\n    </tr>\n    <tr>\n      <th>16</th>\n      <td>Authorize Supplier's Invoice payment</td>\n      <td>Karalda Nimwada</td>\n      <td>Pay Invoice</td>\n      <td>Pedro Alvares</td>\n      <td>0 days 00:20:00</td>\n    </tr>\n  </tbody>\n</table>\n</div>"
     },
     "execution_count": 14,
     "metadata": {},
     "output_type": "execute_result"
    }
   ],
   "source": [
    "handoff"
   ],
   "metadata": {
    "collapsed": false,
    "pycharm": {
     "name": "#%%\n"
    }
   }
  },
  {
   "cell_type": "markdown",
   "source": [
    "## Handoff Frequency"
   ],
   "metadata": {
    "collapsed": false,
    "pycharm": {
     "name": "#%% md\n"
    }
   }
  },
  {
   "cell_type": "code",
   "execution_count": 36,
   "outputs": [
    {
     "data": {
      "text/plain": "                         source_activity      source_resource  \\\n0       Analyze Quotation Comparison Map        Anna Kaufmann   \n1          Analyze Request for Quotation  Francois de Perrier   \n2     Approve Purchase Order for payment       Karel de Groot   \n3   Authorize Supplier's Invoice payment      Karalda Nimwada   \n4                 Confirm Purchase Order       Carmen Finacse   \n5                  Create Purchase Order       Karel de Groot   \n6            Create Purchase Requisition      Esmana Liubiata   \n7            Create Purchase Requisition      Esmana Liubiata   \n8        Create Quotation comparison Map       Karel de Groot   \n9           Create Request for Quotation  Immanuel Karagianni   \n10                Deliver Goods Services              Kiu Kan   \n11                Release Purchase Order          Tesca Lobes   \n12                          Send Invoice        Karen Clarens   \n\n                    destination_activity destination_resource        duration  \\\n0                  Create Purchase Order       Karel de Groot 0 days 11:39:00   \n1        Create Quotation comparison Map       Karel de Groot 0 days 21:32:00   \n2                           Send Invoice        Karen Clarens 0 days 21:27:00   \n3                            Pay Invoice        Pedro Alvares 0 days 00:20:00   \n4                 Deliver Goods Services              Kiu Kan 0 days 08:50:00   \n5                 Confirm Purchase Order       Carmen Finacse 0 days 16:57:00   \n6          Analyze Request for Quotation  Francois de Perrier 0 days 03:52:00   \n7           Create Request for Quotation  Immanuel Karagianni 0 days 06:42:00   \n8       Analyze Quotation Comparison Map        Anna Kaufmann 0 days 07:16:00   \n9            Create Purchase Requisition      Esmana Liubiata 0 days 00:08:00   \n10                Release Purchase Order          Tesca Lobes 0 days 07:35:00   \n11    Approve Purchase Order for payment       Karel de Groot 1 days 18:00:00   \n12  Authorize Supplier's Invoice payment      Karalda Nimwada 0 days 15:20:00   \n\n    frequency  \n0         1.0  \n1         1.0  \n2         1.0  \n3         1.0  \n4         1.0  \n5         1.0  \n6         1.0  \n7         1.0  \n8         1.0  \n9         1.0  \n10        1.0  \n11        1.0  \n12        1.0  ",
      "text/html": "<div>\n<style scoped>\n    .dataframe tbody tr th:only-of-type {\n        vertical-align: middle;\n    }\n\n    .dataframe tbody tr th {\n        vertical-align: top;\n    }\n\n    .dataframe thead th {\n        text-align: right;\n    }\n</style>\n<table border=\"1\" class=\"dataframe\">\n  <thead>\n    <tr style=\"text-align: right;\">\n      <th></th>\n      <th>source_activity</th>\n      <th>source_resource</th>\n      <th>destination_activity</th>\n      <th>destination_resource</th>\n      <th>duration</th>\n      <th>frequency</th>\n    </tr>\n  </thead>\n  <tbody>\n    <tr>\n      <th>0</th>\n      <td>Analyze Quotation Comparison Map</td>\n      <td>Anna Kaufmann</td>\n      <td>Create Purchase Order</td>\n      <td>Karel de Groot</td>\n      <td>0 days 11:39:00</td>\n      <td>1.0</td>\n    </tr>\n    <tr>\n      <th>1</th>\n      <td>Analyze Request for Quotation</td>\n      <td>Francois de Perrier</td>\n      <td>Create Quotation comparison Map</td>\n      <td>Karel de Groot</td>\n      <td>0 days 21:32:00</td>\n      <td>1.0</td>\n    </tr>\n    <tr>\n      <th>2</th>\n      <td>Approve Purchase Order for payment</td>\n      <td>Karel de Groot</td>\n      <td>Send Invoice</td>\n      <td>Karen Clarens</td>\n      <td>0 days 21:27:00</td>\n      <td>1.0</td>\n    </tr>\n    <tr>\n      <th>3</th>\n      <td>Authorize Supplier's Invoice payment</td>\n      <td>Karalda Nimwada</td>\n      <td>Pay Invoice</td>\n      <td>Pedro Alvares</td>\n      <td>0 days 00:20:00</td>\n      <td>1.0</td>\n    </tr>\n    <tr>\n      <th>4</th>\n      <td>Confirm Purchase Order</td>\n      <td>Carmen Finacse</td>\n      <td>Deliver Goods Services</td>\n      <td>Kiu Kan</td>\n      <td>0 days 08:50:00</td>\n      <td>1.0</td>\n    </tr>\n    <tr>\n      <th>5</th>\n      <td>Create Purchase Order</td>\n      <td>Karel de Groot</td>\n      <td>Confirm Purchase Order</td>\n      <td>Carmen Finacse</td>\n      <td>0 days 16:57:00</td>\n      <td>1.0</td>\n    </tr>\n    <tr>\n      <th>6</th>\n      <td>Create Purchase Requisition</td>\n      <td>Esmana Liubiata</td>\n      <td>Analyze Request for Quotation</td>\n      <td>Francois de Perrier</td>\n      <td>0 days 03:52:00</td>\n      <td>1.0</td>\n    </tr>\n    <tr>\n      <th>7</th>\n      <td>Create Purchase Requisition</td>\n      <td>Esmana Liubiata</td>\n      <td>Create Request for Quotation</td>\n      <td>Immanuel Karagianni</td>\n      <td>0 days 06:42:00</td>\n      <td>1.0</td>\n    </tr>\n    <tr>\n      <th>8</th>\n      <td>Create Quotation comparison Map</td>\n      <td>Karel de Groot</td>\n      <td>Analyze Quotation Comparison Map</td>\n      <td>Anna Kaufmann</td>\n      <td>0 days 07:16:00</td>\n      <td>1.0</td>\n    </tr>\n    <tr>\n      <th>9</th>\n      <td>Create Request for Quotation</td>\n      <td>Immanuel Karagianni</td>\n      <td>Create Purchase Requisition</td>\n      <td>Esmana Liubiata</td>\n      <td>0 days 00:08:00</td>\n      <td>1.0</td>\n    </tr>\n    <tr>\n      <th>10</th>\n      <td>Deliver Goods Services</td>\n      <td>Kiu Kan</td>\n      <td>Release Purchase Order</td>\n      <td>Tesca Lobes</td>\n      <td>0 days 07:35:00</td>\n      <td>1.0</td>\n    </tr>\n    <tr>\n      <th>11</th>\n      <td>Release Purchase Order</td>\n      <td>Tesca Lobes</td>\n      <td>Approve Purchase Order for payment</td>\n      <td>Karel de Groot</td>\n      <td>1 days 18:00:00</td>\n      <td>1.0</td>\n    </tr>\n    <tr>\n      <th>12</th>\n      <td>Send Invoice</td>\n      <td>Karen Clarens</td>\n      <td>Authorize Supplier's Invoice payment</td>\n      <td>Karalda Nimwada</td>\n      <td>0 days 15:20:00</td>\n      <td>1.0</td>\n    </tr>\n  </tbody>\n</table>\n</div>"
     },
     "execution_count": 36,
     "metadata": {},
     "output_type": "execute_result"
    }
   ],
   "source": [
    "handoff_per_case = pd.DataFrame(columns=['source_activity', 'source_resource', 'destination_activity', 'destination_resource', 'duration'])\n",
    "\n",
    "grouped = handoff.groupby(by=['source_activity', 'source_resource', 'destination_activity', 'destination_resource'])\n",
    "for group in grouped:\n",
    "    pair, records = group\n",
    "    # print(f\"Source-destination pair: {pair}, frequency per case: {len(records)}\")\n",
    "    handoff_per_case = handoff_per_case.append(pd.Series({\n",
    "        'source_activity': pair[0],\n",
    "        'source_resource': pair[1],\n",
    "        'destination_activity': pair[2],\n",
    "        'destination_resource': pair[3],\n",
    "        'duration': records['duration'].sum(),\n",
    "        'frequency': len(records)\n",
    "    }), ignore_index=True)\n",
    "handoff_per_case"
   ],
   "metadata": {
    "collapsed": false,
    "pycharm": {
     "name": "#%%\n"
    }
   }
  }
 ],
 "metadata": {
  "kernelspec": {
   "display_name": "Python 3",
   "language": "python",
   "name": "python3"
  },
  "language_info": {
   "codemirror_mode": {
    "name": "ipython",
    "version": 2
   },
   "file_extension": ".py",
   "mimetype": "text/x-python",
   "name": "python",
   "nbconvert_exporter": "python",
   "pygments_lexer": "ipython2",
   "version": "2.7.6"
  }
 },
 "nbformat": 4,
 "nbformat_minor": 0
}